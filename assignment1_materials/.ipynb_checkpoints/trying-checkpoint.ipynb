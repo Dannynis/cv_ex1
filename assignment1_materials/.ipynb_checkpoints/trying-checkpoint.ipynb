{
 "cells": [
  {
   "cell_type": "code",
   "execution_count": 2,
   "metadata": {},
   "outputs": [],
   "source": [
    "import time\n",
    "import scipy.io\n",
    "import matplotlib.pyplot as plt\n",
    "import matplotlib.image as mpimg\n",
    "\n",
    "from cv2 import resize, INTER_CUBIC\n",
    "from matplotlib.patches import Circle\n",
    "\n",
    "from ex1_student_solution import Solution\n",
    "\n",
    "import numpy as np"
   ]
  },
  {
   "cell_type": "code",
   "execution_count": 3,
   "metadata": {},
   "outputs": [],
   "source": [
    "src_img = mpimg.imread('src.jpg')\n",
    "dst_img = mpimg.imread('dst.jpg')"
   ]
  },
  {
   "cell_type": "code",
   "execution_count": 4,
   "metadata": {},
   "outputs": [
    {
     "data": {
      "text/plain": [
       "(1026, 1368, 3)"
      ]
     },
     "execution_count": 4,
     "metadata": {},
     "output_type": "execute_result"
    }
   ],
   "source": [
    "src_img.shape"
   ]
  },
  {
   "cell_type": "code",
   "execution_count": 5,
   "metadata": {},
   "outputs": [],
   "source": [
    "matches = scipy.io.loadmat('matches.mat')\n"
   ]
  },
  {
   "cell_type": "code",
   "execution_count": null,
   "metadata": {},
   "outputs": [],
   "source": [
    "plt.imshow(src_img)\n",
    "mp_src = matches['match_p_src']\n",
    "plt.scatter(mp_src[0,:],mp_src[1,:])"
   ]
  },
  {
   "cell_type": "code",
   "execution_count": null,
   "metadata": {},
   "outputs": [],
   "source": [
    "plt.imshow(dst_img)\n",
    "mp_dst = matches['match_p_dst']\n",
    "plt.scatter(mp_dst[0,:],mp_dst[1,:])"
   ]
  },
  {
   "cell_type": "code",
   "execution_count": null,
   "metadata": {},
   "outputs": [],
   "source": [
    "# mp_dst = np.array([[1,1],[1,1]])\n",
    "# mp_src = np.array([[1,2],[3,4]])\n"
   ]
  },
  {
   "cell_type": "code",
   "execution_count": null,
   "metadata": {},
   "outputs": [],
   "source": [
    "match_p_src = mp_src\n",
    "match_p_dst = mp_dst"
   ]
  },
  {
   "cell_type": "code",
   "execution_count": null,
   "metadata": {},
   "outputs": [],
   "source": [
    "# N = mp_src.shape[1]\n",
    "\n",
    "# u = mp_dst[0, :]\n",
    "# v = mp_dst[1, :]\n",
    "# # move to homogeneous coordinates\n",
    "# xy = np.transpose(np.vstack([mp_src, np.ones(N)]))\n",
    "\n",
    "# uxy = np.multiply(np.transpose(np.array([u, ] * 3)), xy)\n",
    "# vxy = np.multiply(np.transpose(np.array([v, ] * 3)), xy)\n",
    "# A_u = np.concatenate((-xy, np.zeros((N, 3)), uxy), axis=1)\n",
    "# A_v = np.concatenate((np.zeros((N, 3)), -xy, vxy), axis=1)"
   ]
  },
  {
   "cell_type": "code",
   "execution_count": null,
   "metadata": {},
   "outputs": [],
   "source": [
    "N = mp_src.shape[1]\n",
    "\n",
    "u = match_p_dst[0, :]\n",
    "v = match_p_dst[1, :]\n",
    "x_vec = np.vstack([match_p_src,np.ones(N)]).T\n",
    "ux_vec = (x_vec.T*u).T\n",
    "vx_vec = (x_vec.T*v).T\n",
    "A_u = np.concatenate((x_vec, np.zeros((N, 3)), -ux_vec), axis=1)\n",
    "A_v = np.concatenate((np.zeros((N, 3)), x_vec, -vx_vec), axis=1)"
   ]
  },
  {
   "cell_type": "code",
   "execution_count": null,
   "metadata": {},
   "outputs": [],
   "source": [
    "# (x_vec.T*u).T == uxy"
   ]
  },
  {
   "cell_type": "code",
   "execution_count": null,
   "metadata": {},
   "outputs": [],
   "source": [
    "# ux_vec == uxy"
   ]
  },
  {
   "cell_type": "code",
   "execution_count": null,
   "metadata": {},
   "outputs": [],
   "source": [
    "# vxy.shape"
   ]
  },
  {
   "cell_type": "code",
   "execution_count": null,
   "metadata": {},
   "outputs": [],
   "source": [
    "# A_u_doubled = np.zeros((2 * N, 9))\n",
    "# A_v_doubled = np.zeros((2 * N, 9))\n",
    "# for i in range(0, N):\n",
    "#     A_u_doubled[2 * i] = A_u[i]\n",
    "#     A_u_doubled[2 * i + 1] = A_u[i]\n",
    "#     A_v_doubled[2 * i] = A_v[i]\n",
    "#     A_v_doubled[2 * i + 1] = A_v[i]\n",
    "# A_u_doubled[1:(2 * N):2] = 0\n",
    "# A_v_doubled[0:(2 * N):2] = 0\n",
    "# A = A_u_doubled + A_v_doubled"
   ]
  },
  {
   "cell_type": "code",
   "execution_count": null,
   "metadata": {},
   "outputs": [],
   "source": [
    "A = np.concatenate([A_u,A_v])"
   ]
  },
  {
   "cell_type": "code",
   "execution_count": null,
   "metadata": {},
   "outputs": [],
   "source": [
    "svd = np.linalg.svd(A)"
   ]
  },
  {
   "cell_type": "code",
   "execution_count": null,
   "metadata": {},
   "outputs": [],
   "source": [
    "chosen_eigen_vector = svd[2][svd[1].argmin()]"
   ]
  },
  {
   "cell_type": "code",
   "execution_count": null,
   "metadata": {},
   "outputs": [],
   "source": [
    "H = chosen_eigen_vector.reshape((3,3))"
   ]
  },
  {
   "cell_type": "code",
   "execution_count": null,
   "metadata": {},
   "outputs": [],
   "source": [
    "eigen_values = svd[1]"
   ]
  },
  {
   "cell_type": "code",
   "execution_count": null,
   "metadata": {},
   "outputs": [],
   "source": [
    "eigen_vectors = svd[2]"
   ]
  },
  {
   "cell_type": "code",
   "execution_count": null,
   "metadata": {},
   "outputs": [],
   "source": [
    "eigen_values.sort()"
   ]
  },
  {
   "cell_type": "code",
   "execution_count": null,
   "metadata": {},
   "outputs": [],
   "source": [
    "eigen_values.argmin()"
   ]
  },
  {
   "cell_type": "code",
   "execution_count": null,
   "metadata": {},
   "outputs": [],
   "source": [
    "AA = np.dot(np.transpose(A), A)\n",
    "_, v = np.linalg.eigh(AA)\n",
    "H = v[:, 0]"
   ]
  },
  {
   "cell_type": "code",
   "execution_count": null,
   "metadata": {},
   "outputs": [],
   "source": [
    "H = np.reshape(H, (3, 3))\n",
    "# H = H / H[-1, -1]"
   ]
  },
  {
   "cell_type": "code",
   "execution_count": null,
   "metadata": {},
   "outputs": [],
   "source": [
    "H"
   ]
  },
  {
   "cell_type": "code",
   "execution_count": null,
   "metadata": {},
   "outputs": [],
   "source": [
    "\n",
    "# Parameters\n",
    "max_err = 25\n",
    "inliers_percent = 0.8\n"
   ]
  },
  {
   "cell_type": "code",
   "execution_count": null,
   "metadata": {},
   "outputs": [],
   "source": [
    "H_naive = H"
   ]
  },
  {
   "cell_type": "code",
   "execution_count": null,
   "metadata": {},
   "outputs": [],
   "source": [
    "xy = np.vstack([mp_src, np.ones(mp_src.shape[1])])\n",
    "uv = np.vstack([mp_dst, np.ones(mp_dst.shape[1])])\n",
    "estimated = np.matmul(H_naive,xy)\n",
    "estimated = estimated / estimated[2,:]\n",
    "error = estimated - uv\n",
    "norms = np.array([np.linalg.norm(error[:2,i]) for i in range(error.shape[1])])\n",
    "vfunc = np.vectorize(lambda x: x < max_err)\n",
    "fit_points = vfunc(norms)\n",
    "fit_percent = np.mean(fit_points)\n",
    "dist_mse = np.mean(norms[fit_points])"
   ]
  },
  {
   "cell_type": "code",
   "execution_count": null,
   "metadata": {},
   "outputs": [],
   "source": [
    "fit_percent"
   ]
  },
  {
   "cell_type": "code",
   "execution_count": null,
   "metadata": {},
   "outputs": [],
   "source": [
    "dist_mse"
   ]
  },
  {
   "cell_type": "markdown",
   "metadata": {},
   "source": [
    "####"
   ]
  },
  {
   "cell_type": "code",
   "execution_count": null,
   "metadata": {},
   "outputs": [],
   "source": [
    "from ex1_student_solution import Solution"
   ]
  },
  {
   "cell_type": "code",
   "execution_count": null,
   "metadata": {},
   "outputs": [],
   "source": [
    "H= Solution.compute_homography_naive(mp_src,mp_dst)"
   ]
  },
  {
   "cell_type": "code",
   "execution_count": null,
   "metadata": {},
   "outputs": [],
   "source": [
    "H = H / H[-1][-1]"
   ]
  },
  {
   "cell_type": "code",
   "execution_count": null,
   "metadata": {},
   "outputs": [],
   "source": [
    "H"
   ]
  },
  {
   "cell_type": "code",
   "execution_count": null,
   "metadata": {},
   "outputs": [],
   "source": [
    "match_p_src.shape"
   ]
  },
  {
   "cell_type": "code",
   "execution_count": null,
   "metadata": {},
   "outputs": [],
   "source": [
    "x_vec = np.vstack([match_p_src,np.ones(N)]).T\n"
   ]
  },
  {
   "cell_type": "code",
   "execution_count": null,
   "metadata": {},
   "outputs": [],
   "source": [
    "pred_dst = np.dot(H,x_vec.T)"
   ]
  },
  {
   "cell_type": "code",
   "execution_count": null,
   "metadata": {},
   "outputs": [],
   "source": [
    "pred_dst = pred_dst/pred_dst[2,:]"
   ]
  },
  {
   "cell_type": "code",
   "execution_count": null,
   "metadata": {},
   "outputs": [],
   "source": [
    "pred_dst= pred_dst[:2,]"
   ]
  },
  {
   "cell_type": "code",
   "execution_count": null,
   "metadata": {},
   "outputs": [],
   "source": [
    "max_err = 0\n",
    "dist = pred_dst - match_p_dst\n",
    "l1 =np.linalg.norm(dist,axis=0)\n",
    "inline_l1 = l1[l1<max_err]\n",
    "mse = np.mean(inline_l1**2) if len(inline_l1)>0 else 10 ** 9\n",
    "sum(l1 < max_err)/len(l1), mse"
   ]
  },
  {
   "cell_type": "code",
   "execution_count": null,
   "metadata": {},
   "outputs": [],
   "source": [
    "l1"
   ]
  },
  {
   "cell_type": "code",
   "execution_count": null,
   "metadata": {},
   "outputs": [],
   "source": [
    "src.shape"
   ]
  },
  {
   "cell_type": "code",
   "execution_count": null,
   "metadata": {},
   "outputs": [],
   "source": [
    "from main import *"
   ]
  },
  {
   "cell_type": "code",
   "execution_count": null,
   "metadata": {},
   "outputs": [],
   "source": [
    "src_img, dst_img, match_p_src, match_p_dst = load_data()"
   ]
  },
  {
   "cell_type": "code",
   "execution_count": null,
   "metadata": {},
   "outputs": [],
   "source": [
    "src = src_img"
   ]
  },
  {
   "cell_type": "code",
   "execution_count": null,
   "metadata": {},
   "outputs": [],
   "source": [
    "def forward_mapping(H, src):\n",
    "    \"\"\" Input : A homography matrix 3*3, src points to transfer as a 3*n array\n",
    "        output: dst points as a 3*n array\"\"\"\n",
    "    pts_hom = np.vstack([src, np.ones(src.shape[1])])\n",
    "    f_map = H @ pts_hom\n",
    "    f_map = f_map / f_map[2,:]\n",
    "    return f_map"
   ]
  },
  {
   "cell_type": "code",
   "execution_count": null,
   "metadata": {},
   "outputs": [],
   "source": [
    "def get_all_image_indices(H,src_img):\n",
    "    img = np.asarray(src_img[:,:,1])\n",
    "    ys , xs = np.where(img!=None)\n",
    "    xs = np.asarray(xs)\n",
    "    ys = np.asarray(ys)\n",
    "    xs = xs.T\n",
    "    ys = ys.T\n",
    "    orig_ind = np.vstack((xs,ys))\n",
    "    target_ind = forward_mapping(H, orig_ind)\n",
    "    target_ind = target_ind.round()\n",
    "    target_ind = target_ind.astype(int)\n",
    "    return orig_ind,target_ind"
   ]
  },
  {
   "cell_type": "code",
   "execution_count": null,
   "metadata": {},
   "outputs": [],
   "source": [
    "o,t= get_all_image_indices(H,src_img)"
   ]
  },
  {
   "cell_type": "code",
   "execution_count": null,
   "metadata": {},
   "outputs": [],
   "source": [
    "o[:,0],t[:,0]"
   ]
  },
  {
   "cell_type": "code",
   "execution_count": null,
   "metadata": {},
   "outputs": [],
   "source": [
    "img = np.asarray(src_img[:,:,1])\n",
    "ys , xs = np.where(img!=None)\n",
    "xs = np.asarray(xs)\n",
    "ys = np.asarray(ys)\n",
    "xs = xs.T\n",
    "ys = ys.T\n",
    "orig_ind = np.vstack((xs,ys))\n",
    "target_ind = forward_mapping(H, orig_ind)\n",
    "target_ind = target_ind.round()\n",
    "target_ind = target_ind.astype(int)"
   ]
  },
  {
   "cell_type": "code",
   "execution_count": null,
   "metadata": {},
   "outputs": [],
   "source": [
    "target_ind.shape"
   ]
  },
  {
   "cell_type": "code",
   "execution_count": null,
   "metadata": {},
   "outputs": [],
   "source": [
    "def get_corner_indx(src_img_np, H):\n",
    "    rows, cols, _ = src_img_np.shape\n",
    "    cor_src = np.zeros((2,4))\n",
    "    cor_src[:, 0] = np.array([0,0]).T\n",
    "    cor_src[:, 1] = np.array([0,rows]).T\n",
    "    cor_src[:, 2] = np.array([cols,0]).T\n",
    "    cor_src[:, 3] = np.array([cols,rows]).T\n",
    "    print(cor_src)\n",
    "    corners = forward_mapping(H, cor_src)\n",
    "    xmin = math.floor(min(corners[0,:]))\n",
    "    xmax = math.ceil(max(corners[0, :]))\n",
    "    ymin = math.floor(min(corners[1, :]))\n",
    "    ymax = math.ceil(max(corners[1, :]))\n",
    "    return xmin, xmax, ymin, ymax"
   ]
  },
  {
   "cell_type": "code",
   "execution_count": null,
   "metadata": {},
   "outputs": [],
   "source": [
    "import math"
   ]
  },
  {
   "cell_type": "code",
   "execution_count": null,
   "metadata": {},
   "outputs": [],
   "source": [
    "orig_ind , target_ind = get_all_image_indices(H,src_img)\n",
    "src_img_np = np.asarray(src_img)\n",
    "rows, cols, __ = src_img_np.shape\n",
    "x1, x2, y1, y2 = get_corner_indx(src_img_np,H)"
   ]
  },
  {
   "cell_type": "code",
   "execution_count": null,
   "metadata": {},
   "outputs": [],
   "source": [
    "x_new = get_mapped_indx(target_ind,x1, width,0)\n"
   ]
  },
  {
   "cell_type": "code",
   "execution_count": null,
   "metadata": {},
   "outputs": [],
   "source": [
    "size = width\n",
    "i=0\n",
    "ret = target_ind[i,:]\n"
   ]
  },
  {
   "cell_type": "code",
   "execution_count": null,
   "metadata": {},
   "outputs": [],
   "source": [
    "x1"
   ]
  },
  {
   "cell_type": "code",
   "execution_count": null,
   "metadata": {},
   "outputs": [],
   "source": [
    "ret"
   ]
  },
  {
   "cell_type": "code",
   "execution_count": null,
   "metadata": {},
   "outputs": [],
   "source": [
    "ret = ret - x1\n"
   ]
  },
  {
   "cell_type": "code",
   "execution_count": null,
   "metadata": {},
   "outputs": [],
   "source": [
    "ret"
   ]
  },
  {
   "cell_type": "code",
   "execution_count": null,
   "metadata": {},
   "outputs": [],
   "source": [
    "ret = np.array([min(max(indx, 1), size) for indx in ret])"
   ]
  },
  {
   "cell_type": "code",
   "execution_count": null,
   "metadata": {},
   "outputs": [],
   "source": [
    "ret"
   ]
  },
  {
   "cell_type": "code",
   "execution_count": null,
   "metadata": {},
   "outputs": [],
   "source": [
    "\"\"\" Input: A homography matrix 3*3, src img  to transfer\n",
    "    Output: dst image (after transformation) scaled according to destination max coordinates\"\"\"\n",
    "orig_ind , target_ind = get_all_image_indices(H,src_img)\n",
    "src_img_np = np.asarray(src_img)\n",
    "rows, cols, __ = src_img_np.shape\n",
    "x1, x2, y1, y2 = get_corner_indx(src_img_np,H)\n",
    "width = x2-x1\n",
    "hight = y2-y1\n",
    "# target_img = np.zeros((hight+1,width+1,3))\n",
    "target_img = np.zeros_like(dst_img)\n",
    "def get_mapped_indx(tt, first_indx, size,i):\n",
    "    ret = tt[i,:]\n",
    "    ret = ret - first_indx\n",
    "    ret = np.array([min(max(indx, 1), size) for indx in ret])\n",
    "    return ret\n",
    "x_new = get_mapped_indx(target_ind,x1, target_img.shape[0]-1,0)\n",
    "y_new = get_mapped_indx(target_ind,y1, target_img.shape[1]-1,1)\n",
    "x_new = x_new.astype(int)\n",
    "y_new = y_new.astype(int)\n",
    "target_ind = np.vstack((x_new,y_new))\n",
    "for i in range(target_ind.shape[1]):\n",
    "    target_img[y_new[i],x_new[i],:] = src_img_np[orig_ind[1,i],orig_ind[0,i],:]\n",
    "target_img = target_img.astype(int)\n",
    "plt.imshow(target_img)\n"
   ]
  },
  {
   "cell_type": "code",
   "execution_count": null,
   "metadata": {},
   "outputs": [],
   "source": [
    "x_new[i]"
   ]
  },
  {
   "cell_type": "code",
   "execution_count": null,
   "metadata": {},
   "outputs": [],
   "source": [
    "target_img.shape[0]-1"
   ]
  },
  {
   "cell_type": "code",
   "execution_count": null,
   "metadata": {},
   "outputs": [],
   "source": [
    "target_img.shape"
   ]
  },
  {
   "cell_type": "code",
   "execution_count": null,
   "metadata": {},
   "outputs": [],
   "source": [
    "plt.imshow(dst_img)\n",
    "mp_dst = matches['match_p_dst']\n",
    "plt.scatter(mp_dst[0,:],mp_dst[1,:])"
   ]
  },
  {
   "cell_type": "code",
   "execution_count": null,
   "metadata": {},
   "outputs": [],
   "source": [
    "# !/home/dan/anaconda3/envs/cv_env/bin/python main.py"
   ]
  },
  {
   "cell_type": "code",
   "execution_count": null,
   "metadata": {},
   "outputs": [],
   "source": [
    "!which python"
   ]
  },
  {
   "cell_type": "code",
   "execution_count": null,
   "metadata": {},
   "outputs": [],
   "source": [
    "solution = Solution()"
   ]
  },
  {
   "cell_type": "code",
   "execution_count": null,
   "metadata": {},
   "outputs": [],
   "source": [
    "# tt = time.time()\n",
    "\n",
    "# # Parameters\n",
    "# max_err = 25\n",
    "# inliers_percent = 0.8\n",
    "\n",
    "# fit_percent, dist_mse = solution.test_homography(H,\n",
    "#                                                  match_p_src,\n",
    "#                                                  match_p_dst,\n",
    "#                                                  max_err)\n",
    "# print('Naive Homography Test {:5.4f} sec'.format(toc(tt)))\n",
    "# print([fit_percent, dist_mse])"
   ]
  },
  {
   "cell_type": "code",
   "execution_count": null,
   "metadata": {},
   "outputs": [],
   "source": [
    "###################"
   ]
  },
  {
   "cell_type": "code",
   "execution_count": null,
   "metadata": {},
   "outputs": [],
   "source": [
    "z= np.zeros_like(dst_img)"
   ]
  },
  {
   "cell_type": "code",
   "execution_count": null,
   "metadata": {},
   "outputs": [],
   "source": [
    "dst_img.shape"
   ]
  },
  {
   "cell_type": "code",
   "execution_count": null,
   "metadata": {},
   "outputs": [],
   "source": [
    "new_indexs[0][0]"
   ]
  },
  {
   "cell_type": "code",
   "execution_count": null,
   "metadata": {},
   "outputs": [],
   "source": [
    "new_indexs[0,0] = 3"
   ]
  },
  {
   "cell_type": "code",
   "execution_count": null,
   "metadata": {},
   "outputs": [],
   "source": [
    "new_indexs[0,0] = new_index"
   ]
  },
  {
   "cell_type": "code",
   "execution_count": null,
   "metadata": {},
   "outputs": [],
   "source": [
    "new_indexs[0,0]"
   ]
  },
  {
   "cell_type": "code",
   "execution_count": null,
   "metadata": {},
   "outputs": [],
   "source": [
    "H = H.T"
   ]
  },
  {
   "cell_type": "code",
   "execution_count": null,
   "metadata": {},
   "outputs": [],
   "source": [
    "src_img.shape"
   ]
  },
  {
   "cell_type": "code",
   "execution_count": null,
   "metadata": {},
   "outputs": [],
   "source": [
    "xv, yv = np.meshgrid(range(src_img.shape[1]), range(src_img.shape[0]), sparse=False, indexing='xy')"
   ]
  },
  {
   "cell_type": "code",
   "execution_count": null,
   "metadata": {},
   "outputs": [],
   "source": [
    "xv.shape"
   ]
  },
  {
   "cell_type": "code",
   "execution_count": null,
   "metadata": {},
   "outputs": [],
   "source": [
    "img = np.asarray(src_img[:,:,1])\n",
    "ys , xs = np.where(img!=None)\n",
    "xs = np.asarray(xs)\n",
    "ys = np.asarray(ys)\n",
    "xs = xs.T\n",
    "ys = ys.T"
   ]
  },
  {
   "cell_type": "code",
   "execution_count": null,
   "metadata": {},
   "outputs": [],
   "source": [
    "orig_ind = np.vstack((xs,ys))\n",
    "orig_ind = np.vstack((xs,ys))\n",
    "target_ind = forward_mapping(H, orig_ind)"
   ]
  },
  {
   "cell_type": "code",
   "execution_count": null,
   "metadata": {},
   "outputs": [],
   "source": [
    "target_ind.shape"
   ]
  },
  {
   "cell_type": "code",
   "execution_count": null,
   "metadata": {},
   "outputs": [],
   "source": [
    "aa= np.vstack([xv.flatten(),yv.flatten(),np.ones(src_img.shape[0]*src_img.shape[1])])"
   ]
  },
  {
   "cell_type": "code",
   "execution_count": null,
   "metadata": {},
   "outputs": [],
   "source": [
    "all(yv.flatten() == ys)"
   ]
  },
  {
   "cell_type": "code",
   "execution_count": null,
   "metadata": {},
   "outputs": [],
   "source": [
    "all(xv.flatten() == xs)"
   ]
  },
  {
   "cell_type": "code",
   "execution_count": null,
   "metadata": {},
   "outputs": [],
   "source": [
    "dst_grid= np.dot(H,aa)"
   ]
  },
  {
   "cell_type": "code",
   "execution_count": null,
   "metadata": {},
   "outputs": [],
   "source": [
    "aa.shape"
   ]
  },
  {
   "cell_type": "code",
   "execution_count": null,
   "metadata": {},
   "outputs": [],
   "source": [
    "# dst_grid = dst_grid.astype('int32')"
   ]
  },
  {
   "cell_type": "code",
   "execution_count": null,
   "metadata": {},
   "outputs": [],
   "source": [
    "# dst_grid[0,:]  = dst_grid[0,:] / dst_grid[2,:]"
   ]
  },
  {
   "cell_type": "code",
   "execution_count": null,
   "metadata": {},
   "outputs": [],
   "source": [
    "# dst_grid[1,:]  = dst_grid[1,:] / dst_grid[2,:]"
   ]
  },
  {
   "cell_type": "code",
   "execution_count": null,
   "metadata": {},
   "outputs": [],
   "source": [
    "dst_grid = dst_grid/dst_grid[2,:]"
   ]
  },
  {
   "cell_type": "code",
   "execution_count": null,
   "metadata": {},
   "outputs": [],
   "source": [
    "dst_grid = dst_grid.astype('int')"
   ]
  },
  {
   "cell_type": "code",
   "execution_count": null,
   "metadata": {},
   "outputs": [],
   "source": [
    "dst_grid[:,0]"
   ]
  },
  {
   "cell_type": "code",
   "execution_count": null,
   "metadata": {},
   "outputs": [],
   "source": [
    "dst_grid[0,:] = dst_grid[0,:].clip(min=0,max=dst_img.shape[1]-1)\n",
    "dst_grid[1,:] = dst_grid[1,:].clip(min=0,max=dst_img.shape[0]-1)"
   ]
  },
  {
   "cell_type": "code",
   "execution_count": null,
   "metadata": {},
   "outputs": [],
   "source": [
    "dst_grid.shape"
   ]
  },
  {
   "cell_type": "code",
   "execution_count": null,
   "metadata": {},
   "outputs": [],
   "source": [
    "aa = aa.reshape((3,src_img.shape[0],src_img.shape[1])).astype('int')"
   ]
  },
  {
   "cell_type": "code",
   "execution_count": null,
   "metadata": {},
   "outputs": [],
   "source": [
    "dst_grid_r = dst_grid.reshape((3,src_img.shape[0],src_img.shape[1]))"
   ]
  },
  {
   "cell_type": "code",
   "execution_count": null,
   "metadata": {},
   "outputs": [],
   "source": [
    "dst_grid_r = dst_grid_r[:2,:]\n",
    "aa = aa[:2,:]"
   ]
  },
  {
   "cell_type": "code",
   "execution_count": null,
   "metadata": {},
   "outputs": [],
   "source": [
    "new_img = np.zeros_like(dst_img)\n",
    "for j in range(src_img.shape[0]):\n",
    "    for i in range(src_img.shape[1]):\n",
    "        c = src_img[j][i]\n",
    "        new_index = dst_grid_r[:,j,i]\n",
    "        new_img[new_index[1],new_index[0]] = c"
   ]
  },
  {
   "cell_type": "code",
   "execution_count": null,
   "metadata": {},
   "outputs": [],
   "source": [
    "new_img = np.zeros_like(dst_img)\n",
    "\n",
    "new_img[dst_grid_r[1],dst_grid_r[0]]= src_img[aa[1],aa[0]]"
   ]
  },
  {
   "cell_type": "code",
   "execution_count": null,
   "metadata": {},
   "outputs": [],
   "source": [
    "plt.imshow(new_img)"
   ]
  },
  {
   "cell_type": "code",
   "execution_count": null,
   "metadata": {},
   "outputs": [],
   "source": [
    "src_img.shape"
   ]
  },
  {
   "cell_type": "code",
   "execution_count": null,
   "metadata": {},
   "outputs": [],
   "source": [
    "src_img[aa]"
   ]
  },
  {
   "cell_type": "code",
   "execution_count": null,
   "metadata": {},
   "outputs": [],
   "source": [
    "new_inx.transpose((2,0,1,)).astype('int')"
   ]
  },
  {
   "cell_type": "code",
   "execution_count": null,
   "metadata": {},
   "outputs": [],
   "source": [
    "np.sum(dst_grid_r != new_inx.transpose((2,0,1,)).astype('int'))"
   ]
  },
  {
   "cell_type": "code",
   "execution_count": null,
   "metadata": {},
   "outputs": [],
   "source": [
    "new_inx.shape"
   ]
  },
  {
   "cell_type": "code",
   "execution_count": null,
   "metadata": {},
   "outputs": [],
   "source": [
    "for k in new_inx:\n",
    "    p = dst_grid_r[:,k[0],k[1]]\n",
    "    h = new_inx[k]\n",
    "    if p[0] != h[0] or p[1] != h[1]:\n",
    "        print(k)\n",
    "        break"
   ]
  },
  {
   "cell_type": "code",
   "execution_count": null,
   "metadata": {},
   "outputs": [],
   "source": []
  },
  {
   "cell_type": "code",
   "execution_count": null,
   "metadata": {},
   "outputs": [],
   "source": [
    "k"
   ]
  },
  {
   "cell_type": "code",
   "execution_count": null,
   "metadata": {},
   "outputs": [],
   "source": [
    "p[1]"
   ]
  },
  {
   "cell_type": "code",
   "execution_count": null,
   "metadata": {},
   "outputs": [],
   "source": [
    "h[1]"
   ]
  },
  {
   "cell_type": "code",
   "execution_count": null,
   "metadata": {},
   "outputs": [],
   "source": [
    "dst_grid_r[:,100,300]"
   ]
  },
  {
   "cell_type": "code",
   "execution_count": null,
   "metadata": {},
   "outputs": [],
   "source": [
    "src_img.shape"
   ]
  },
  {
   "cell_type": "code",
   "execution_count": null,
   "metadata": {},
   "outputs": [],
   "source": [
    "dst_grid_r.shape"
   ]
  },
  {
   "cell_type": "code",
   "execution_count": null,
   "metadata": {},
   "outputs": [],
   "source": [
    "new_inx.shape"
   ]
  },
  {
   "cell_type": "code",
   "execution_count": null,
   "metadata": {},
   "outputs": [],
   "source": [
    "dst_grid_r[:,800,777]"
   ]
  },
  {
   "cell_type": "code",
   "execution_count": null,
   "metadata": {},
   "outputs": [],
   "source": [
    "new_inx[800,777]"
   ]
  },
  {
   "cell_type": "code",
   "execution_count": null,
   "metadata": {},
   "outputs": [],
   "source": [
    "dst_grid_r[:,:,800]"
   ]
  },
  {
   "cell_type": "code",
   "execution_count": null,
   "metadata": {},
   "outputs": [],
   "source": [
    "new_inx[:,800]"
   ]
  },
  {
   "cell_type": "code",
   "execution_count": null,
   "metadata": {},
   "outputs": [],
   "source": [
    "dst_grid_r[:,k[1],k[0]] == new_inx[k]"
   ]
  },
  {
   "cell_type": "code",
   "execution_count": null,
   "metadata": {},
   "outputs": [],
   "source": [
    "plt.imshow(new_img)"
   ]
  },
  {
   "cell_type": "code",
   "execution_count": null,
   "metadata": {},
   "outputs": [],
   "source": [
    "src_img.shape[0]"
   ]
  },
  {
   "cell_type": "code",
   "execution_count": null,
   "metadata": {},
   "outputs": [],
   "source": [
    "dst_grid_r[0,1025,1]"
   ]
  },
  {
   "cell_type": "code",
   "execution_count": null,
   "metadata": {},
   "outputs": [],
   "source": [
    "dst_grid_r.shape"
   ]
  },
  {
   "cell_type": "code",
   "execution_count": null,
   "metadata": {},
   "outputs": [],
   "source": [
    "dst_grid_r.shape"
   ]
  },
  {
   "cell_type": "code",
   "execution_count": null,
   "metadata": {},
   "outputs": [],
   "source": [
    "plg.plot()"
   ]
  },
  {
   "cell_type": "code",
   "execution_count": null,
   "metadata": {},
   "outputs": [],
   "source": [
    "dst_grid_r[:,491,455]"
   ]
  },
  {
   "cell_type": "code",
   "execution_count": null,
   "metadata": {},
   "outputs": [],
   "source": [
    "new_inx[(491, 455)]"
   ]
  },
  {
   "cell_type": "code",
   "execution_count": null,
   "metadata": {},
   "outputs": [],
   "source": [
    "dst_grid_r.shape"
   ]
  },
  {
   "cell_type": "code",
   "execution_count": null,
   "metadata": {},
   "outputs": [],
   "source": [
    "dst_grid.shape"
   ]
  },
  {
   "cell_type": "code",
   "execution_count": null,
   "metadata": {},
   "outputs": [],
   "source": [
    "print(dst_grid[0,3000],dst_grid[0,700])"
   ]
  },
  {
   "cell_type": "code",
   "execution_count": null,
   "metadata": {},
   "outputs": [],
   "source": [
    "dst_grid"
   ]
  },
  {
   "cell_type": "code",
   "execution_count": null,
   "metadata": {},
   "outputs": [],
   "source": [
    "s = src_img[dst_grid[0,:],dst_grid[1,:]]"
   ]
  },
  {
   "cell_type": "code",
   "execution_count": null,
   "metadata": {},
   "outputs": [],
   "source": [
    "src_img[(1,2),(0,0)]"
   ]
  },
  {
   "cell_type": "code",
   "execution_count": null,
   "metadata": {},
   "outputs": [],
   "source": [
    "src_img[0][0]"
   ]
  },
  {
   "cell_type": "code",
   "execution_count": null,
   "metadata": {},
   "outputs": [],
   "source": [
    "src_img[[1,1],[1,0]][1]"
   ]
  },
  {
   "cell_type": "code",
   "execution_count": null,
   "metadata": {},
   "outputs": [],
   "source": [
    "s = src_img[dst_grid[0,:],dst_grid[1,:]]"
   ]
  },
  {
   "cell_type": "code",
   "execution_count": null,
   "metadata": {},
   "outputs": [],
   "source": [
    "s= s.reshape(src_img.shape[0],src_img.shape[1],3)"
   ]
  },
  {
   "cell_type": "code",
   "execution_count": null,
   "metadata": {},
   "outputs": [],
   "source": [
    "s.shape"
   ]
  },
  {
   "cell_type": "code",
   "execution_count": null,
   "metadata": {},
   "outputs": [],
   "source": [
    "plt.imshow(s)"
   ]
  },
  {
   "cell_type": "code",
   "execution_count": null,
   "metadata": {},
   "outputs": [],
   "source": [
    "np.take(a= src_img,indices=dst_grid[0,:],axis=0)"
   ]
  },
  {
   "cell_type": "code",
   "execution_count": null,
   "metadata": {},
   "outputs": [],
   "source": [
    "src_img[dst_grid[0,:]]"
   ]
  },
  {
   "cell_type": "code",
   "execution_count": null,
   "metadata": {},
   "outputs": [],
   "source": [
    "dst_grid[0,:].shape"
   ]
  },
  {
   "cell_type": "code",
   "execution_count": null,
   "metadata": {},
   "outputs": [],
   "source": [
    "xv.shape"
   ]
  },
  {
   "cell_type": "code",
   "execution_count": null,
   "metadata": {},
   "outputs": [],
   "source": [
    "xv.shape"
   ]
  },
  {
   "cell_type": "code",
   "execution_count": null,
   "metadata": {},
   "outputs": [],
   "source": [
    "yv.shape"
   ]
  },
  {
   "cell_type": "code",
   "execution_count": null,
   "metadata": {},
   "outputs": [],
   "source": [
    "new_inx = np.zeros((src_img.shape[0],src_img.shape[1],2))\n",
    "new_img = np.zeros_like(dst_img)\n",
    "for j in range(src_img.shape[0]):\n",
    "    for i in range(src_img.shape[1]):\n",
    "        c = src_img[j][i]\n",
    "        new_index = np.dot(H,np.array([i,j,1]))\n",
    "        new_index = new_index / new_index[-1]\n",
    "        new_index = new_index.astype('int')\n",
    "        new_index = (new_index)[:2]\n",
    "        new_index[0] = max(min(new_index[0],dst_img.shape[1]-1),0)\n",
    "        new_index[1] = max(min(new_index[1],dst_img.shape[0]-1),0)\n",
    "        new_img[new_index[1],[new_index[0]]] = c\n",
    "        new_inx[j,i] = (new_index[0],new_index[1])"
   ]
  },
  {
   "cell_type": "code",
   "execution_count": null,
   "metadata": {},
   "outputs": [],
   "source": [
    "new_index = np.dot(H,np.array([0,0,1]))\n",
    "new_index = new_index / new_index[-1]\n",
    "# new_index = new_index.astype('int')\n",
    "new_index"
   ]
  },
  {
   "cell_type": "code",
   "execution_count": null,
   "metadata": {},
   "outputs": [],
   "source": [
    "new_img.shape"
   ]
  },
  {
   "cell_type": "code",
   "execution_count": null,
   "metadata": {},
   "outputs": [],
   "source": [
    "src_img.shape"
   ]
  },
  {
   "cell_type": "code",
   "execution_count": null,
   "metadata": {},
   "outputs": [],
   "source": [
    "H.T"
   ]
  },
  {
   "cell_type": "code",
   "execution_count": null,
   "metadata": {},
   "outputs": [],
   "source": [
    "dst_img.shape"
   ]
  },
  {
   "cell_type": "code",
   "execution_count": null,
   "metadata": {},
   "outputs": [],
   "source": [
    "new_img.shape"
   ]
  },
  {
   "cell_type": "code",
   "execution_count": null,
   "metadata": {},
   "outputs": [],
   "source": [
    "plt.imshow(src_img)"
   ]
  },
  {
   "cell_type": "code",
   "execution_count": null,
   "metadata": {},
   "outputs": [],
   "source": [
    "plt.imshow(dst_img)"
   ]
  },
  {
   "cell_type": "code",
   "execution_count": null,
   "metadata": {},
   "outputs": [],
   "source": [
    "plt.imshow(new_img)"
   ]
  },
  {
   "cell_type": "code",
   "execution_count": null,
   "metadata": {},
   "outputs": [],
   "source": [
    "new_img.shape"
   ]
  },
  {
   "cell_type": "code",
   "execution_count": null,
   "metadata": {},
   "outputs": [],
   "source": [
    "min(new_index[1],dst_img.shape[1]-1)\n"
   ]
  },
  {
   "cell_type": "code",
   "execution_count": null,
   "metadata": {},
   "outputs": [],
   "source": [
    "dst_img.shape[0]"
   ]
  },
  {
   "cell_type": "code",
   "execution_count": null,
   "metadata": {},
   "outputs": [],
   "source": [
    "new_index[1]"
   ]
  },
  {
   "cell_type": "code",
   "execution_count": null,
   "metadata": {},
   "outputs": [],
   "source": [
    "src_img.shape"
   ]
  },
  {
   "cell_type": "code",
   "execution_count": null,
   "metadata": {},
   "outputs": [],
   "source": [
    "new_indexs"
   ]
  },
  {
   "cell_type": "code",
   "execution_count": null,
   "metadata": {},
   "outputs": [],
   "source": [
    "new_index - origin"
   ]
  },
  {
   "cell_type": "code",
   "execution_count": null,
   "metadata": {},
   "outputs": [],
   "source": [
    "new_index"
   ]
  },
  {
   "cell_type": "code",
   "execution_count": null,
   "metadata": {},
   "outputs": [],
   "source": [
    "origin = np.dot(H,np.array([0,0,1]))\n",
    "origin = new_index / new_index[-1]\n",
    "origin = new_index.astype('int')\n",
    "origin"
   ]
  },
  {
   "cell_type": "code",
   "execution_count": null,
   "metadata": {},
   "outputs": [],
   "source": [
    "new_index"
   ]
  },
  {
   "cell_type": "code",
   "execution_count": null,
   "metadata": {},
   "outputs": [],
   "source": [
    "new_indexs[(0,0)]"
   ]
  },
  {
   "cell_type": "code",
   "execution_count": null,
   "metadata": {},
   "outputs": [],
   "source": [
    "new_indexs[-1][-1]"
   ]
  },
  {
   "cell_type": "code",
   "execution_count": null,
   "metadata": {},
   "outputs": [],
   "source": [
    "plt.imshow(new_img)"
   ]
  },
  {
   "cell_type": "code",
   "execution_count": null,
   "metadata": {},
   "outputs": [],
   "source": [
    "new_indexs = np.array(new_indexs)"
   ]
  },
  {
   "cell_type": "code",
   "execution_count": null,
   "metadata": {},
   "outputs": [],
   "source": [
    "new_index"
   ]
  },
  {
   "cell_type": "code",
   "execution_count": null,
   "metadata": {},
   "outputs": [],
   "source": [
    "new_indexs[0][0]"
   ]
  },
  {
   "cell_type": "code",
   "execution_count": null,
   "metadata": {},
   "outputs": [],
   "source": [
    "get_corner_indx(src_img,H)"
   ]
  },
  {
   "cell_type": "code",
   "execution_count": null,
   "metadata": {},
   "outputs": [],
   "source": [
    "i"
   ]
  },
  {
   "cell_type": "code",
   "execution_count": null,
   "metadata": {},
   "outputs": [],
   "source": [
    "new_index = new_index / new_index[-1]"
   ]
  },
  {
   "cell_type": "code",
   "execution_count": null,
   "metadata": {},
   "outputs": [],
   "source": [
    "new_index.astype('int')"
   ]
  },
  {
   "cell_type": "code",
   "execution_count": null,
   "metadata": {},
   "outputs": [],
   "source": [
    "np.dot(H,np.array([i,j,1]))"
   ]
  },
  {
   "cell_type": "code",
   "execution_count": null,
   "metadata": {},
   "outputs": [],
   "source": [
    "def compute_forward_homography_fast(\n",
    "            homography: np.ndarray,\n",
    "            src_image: np.ndarray,\n",
    "            dst_image_shape: tuple = (1088, 1452, 3)) -> np.ndarray:\n",
    "        \"\"\"Compute a Forward-Homography in a fast approach, WITHOUT loops.\n",
    "\n",
    "        (1) Create a meshgrid of columns and rows.\n",
    "        (2) Generate a matrix of size 3x(H*W) which stores the pixel locations\n",
    "        in homogeneous coordinates.\n",
    "        (3) Transform the source homogeneous coordinates to the target\n",
    "        homogeneous coordinates with a simple matrix multiplication and\n",
    "        apply the normalization you've seen in class.\n",
    "        (4) Convert the coordinates into integer values and clip them\n",
    "        according to the destination image size.\n",
    "        (5) Plant the pixels from the source image to the target image according\n",
    "        to the coordinates you found.\n",
    "\n",
    "        Args:\n",
    "            homography: 3x3 Projective Homography matrix.\n",
    "            src_image: HxWx3 source image.\n",
    "            dst_image_shape: tuple of length 3 indicating the destination.\n",
    "            image height, width and color dimensions.\n",
    "\n",
    "        Returns:\n",
    "            The forward homography of the source image to its destination.\n",
    "        \"\"\"\n",
    "        # return new_image\n",
    "        xv, yv = np.meshgrid(range(src_img.shape[1]), range(src_img.shape[0]), sparse=False, indexing='xy')\n",
    "        grid= np.vstack([xv.flatten(),yv.flatten(),np.ones(src_img.shape[0]*src_img.shape[1])])\n",
    "        dst_grid= np.dot(homography,grid)\n",
    "        dst_grid = dst_grid/dst_grid[2,:]\n",
    "        dst_grid = dst_grid.astype('int')\n",
    "        dst_grid[0,:] = dst_grid[0,:].clip(min=0,max=dst_img.shape[1]-1)\n",
    "        dst_grid[1,:] = dst_grid[1,:].clip(min=0,max=dst_img.shape[0]-1)\n",
    "        grid = grid.reshape((3,src_img.shape[0],src_img.shape[1])).astype('int')\n",
    "        dst_grid_r = dst_grid.reshape((3,src_img.shape[0],src_img.shape[1]))\n",
    "        new_img = np.zeros_like(dst_img)\n",
    "        new_img[dst_grid_r[1],dst_grid_r[0]]= src_img[grid[1],grid[0]]\n",
    "        \n",
    "        return new_img"
   ]
  },
  {
   "cell_type": "code",
   "execution_count": null,
   "metadata": {},
   "outputs": [],
   "source": [
    "    def compute_forward_homography_slow(\n",
    "            homography: np.ndarray,\n",
    "            src_image: np.ndarray,\n",
    "            dst_image_shape: tuple = (1088, 1452, 3)) -> np.ndarray:\n",
    "        \"\"\"Compute a Forward-Homography in the Naive approach, using loops.\n",
    "\n",
    "        Iterate over the rows and columns of the source image, and compute\n",
    "        the corresponding point in the destination image using the\n",
    "        projective homography. Place each pixel value from the source image\n",
    "        to its corresponding location in the destination image.\n",
    "        Don't forget to round the pixel locations computed using the\n",
    "        homography.\n",
    "\n",
    "        Args:\n",
    "            homography: 3x3 Projective Homography matrix.\n",
    "            src_image: HxWx3 source image.\n",
    "            dst_image_shape: tuple of length 3 indicating the destination\n",
    "            image height, width and color dimensions.\n",
    "\n",
    "        Returns:\n",
    "            The forward homography of the source image to its destination.\n",
    "        \"\"\"\n",
    "        # return new_image\n",
    "        new_img = np.zeros_like(dst_img)\n",
    "        for j in range(src_img.shape[0]):\n",
    "            for i in range(src_img.shape[1]):\n",
    "                c = src_img[j][i]\n",
    "                new_index = np.dot(homography,np.array([i,j,1]))\n",
    "                new_index = new_index / new_index[-1]\n",
    "                new_index = new_index.astype('int')\n",
    "                new_index = (new_index)[:2]\n",
    "                new_index[0] = max(min(new_index[0],dst_img.shape[1]-1),0)\n",
    "                new_index[1] = max(min(new_index[1],dst_img.shape[0]-1),0)\n",
    "                new_img[new_index[1],[new_index[0]]] = c\n",
    "        return new_img\n",
    "    "
   ]
  },
  {
   "cell_type": "code",
   "execution_count": null,
   "metadata": {},
   "outputs": [],
   "source": [
    "# plt.imshow(compute_forward_homography_slow(H,src_img,dst_img.shape))"
   ]
  },
  {
   "cell_type": "code",
   "execution_count": null,
   "metadata": {},
   "outputs": [],
   "source": [
    "def test_homography(homography: np.ndarray,\n",
    "                    match_p_src: np.ndarray,\n",
    "                    match_p_dst: np.ndarray,\n",
    "                    max_err: float) -> tuple[float, float]:\n",
    "    \"\"\"Calculate the quality of the projective transformation model.\n",
    "\n",
    "    Args:\n",
    "        homography: 3x3 Projective Homography matrix.\n",
    "        match_p_src: 2xN points from the source image.\n",
    "        match_p_dst: 2xN points from the destination image.\n",
    "        max_err: A scalar that represents the maximum distance (in\n",
    "        pixels) between the mapped src point to its corresponding dst\n",
    "        point, in order to be considered as valid inlier.\n",
    "\n",
    "    Returns:\n",
    "        A tuple containing the following metrics to quantify the\n",
    "        homography performance:\n",
    "        fit_percent: The probability (between 0 and 1) validly mapped src\n",
    "        points (inliers).\n",
    "        dist_mse: Mean square error of the distances between validly\n",
    "        mapped src points, to their corresponding dst points (only for\n",
    "        inliers). In edge case where the number of inliers is zero,\n",
    "        return dist_mse = 10 ** 9.\n",
    "    \"\"\"\n",
    "    # return fit_percent, dist_mse\n",
    "    x_vec = np.vstack([match_p_src,np.ones(match_p_src.shape[1])]).T\n",
    "    pred_dst = np.dot(homography,x_vec.T)\n",
    "    pred_dst = pred_dst/pred_dst[2,:]\n",
    "    pred_dst= pred_dst[:2,]\n",
    "    dist = pred_dst - match_p_dst\n",
    "    l1 =np.linalg.norm(dist,axis=0)\n",
    "    inline_l1 = l1[l1<max_err]\n",
    "    mse = np.mean(inline_l1**2) if len(inline_l1)>0 else 10 ** 9\n",
    "    return  sum(l1 < max_err)/len(l1), mse"
   ]
  },
  {
   "cell_type": "code",
   "execution_count": null,
   "metadata": {},
   "outputs": [],
   "source": [
    "\n",
    "\n",
    "\n",
    "def meet_the_model_points(homography: np.ndarray,\n",
    "                          match_p_src: np.ndarray,\n",
    "                          match_p_dst: np.ndarray,\n",
    "                          max_err: float) -> tuple[np.ndarray, np.ndarray]:\n",
    "    \"\"\"Return which matching points meet the homography.\n",
    "\n",
    "    Loop through the matching points, and return the matching points from\n",
    "    both images that are inliers for the given homography.\n",
    "\n",
    "    Args:\n",
    "        homography: 3x3 Projective Homography matrix.\n",
    "        match_p_src: 2xN points from the source image.\n",
    "        match_p_dst: 2xN points from the destination image.\n",
    "        max_err: A scalar that represents the maximum distance (in\n",
    "        pixels) between the mapped src point to its corresponding dst\n",
    "        point, in order to be considered as valid inlier.\n",
    "    Returns:\n",
    "        A tuple containing two numpy nd-arrays, containing the matching\n",
    "        points which meet the model (the homography). The first entry in\n",
    "        the tuple is the matching points from the source image. That is a\n",
    "        nd-array of size 2xD (D=the number of points which meet the model).\n",
    "        The second entry is the matching points form the destination\n",
    "        image (shape 2xD; D as above).\n",
    "    \"\"\"\n",
    "    # return mp_src_meets_model, mp_dst_meets_model\n",
    "    x_vec = np.vstack([match_p_src,np.ones(match_p_src.shape[1])]).T\n",
    "    pred_dst = np.dot(homography,x_vec.T)\n",
    "    pred_dst = pred_dst/pred_dst[2,:]\n",
    "    pred_dst= pred_dst[:2,]\n",
    "    dist = pred_dst - match_p_dst\n",
    "    l1 =np.linalg.norm(dist,axis=0)\n",
    "    return match_p_src[:,l1<max_err], match_p_dst[:,l1<max_err]"
   ]
  },
  {
   "cell_type": "code",
   "execution_count": null,
   "metadata": {},
   "outputs": [],
   "source": [
    "l1<max_err"
   ]
  },
  {
   "cell_type": "code",
   "execution_count": null,
   "metadata": {},
   "outputs": [],
   "source": [
    "homography=compute_homography_naive(match_p_src,match_p_dst)"
   ]
  },
  {
   "cell_type": "code",
   "execution_count": null,
   "metadata": {},
   "outputs": [],
   "source": [
    "x_vec = np.vstack([match_p_src,np.ones(match_p_src.shape[1])]).T\n",
    "pred_dst = np.dot(homography,x_vec.T)\n",
    "pred_dst = pred_dst/pred_dst[2,:]\n",
    "pred_dst= pred_dst[:2,]\n",
    "dist = pred_dst - match_p_dst\n",
    "l1 =np.linalg.norm(dist,axis=0)"
   ]
  },
  {
   "cell_type": "code",
   "execution_count": null,
   "metadata": {},
   "outputs": [],
   "source": [
    "l1"
   ]
  },
  {
   "cell_type": "code",
   "execution_count": null,
   "metadata": {},
   "outputs": [],
   "source": [
    " def compute_homography_naive(match_p_src: np.ndarray,\n",
    "                                 match_p_dst: np.ndarray) -> np.ndarray:\n",
    "        \"\"\"Compute a Homography in the Naive approach, using SVD decomposition.\n",
    "\n",
    "        Args:\n",
    "            match_p_src: 2xN points from the source image.\n",
    "            match_p_dst: 2xN points from the destination image.\n",
    "\n",
    "        Returns:\n",
    "            Homography from source to destination, 3x3 numpy array.\n",
    "        \"\"\"\n",
    "        # return homography\n",
    "        N = match_p_src.shape[1]\n",
    "        u = match_p_dst[0, :]\n",
    "        v = match_p_dst[1, :]\n",
    "        x_vec = np.vstack([match_p_src,np.ones(N)]).T\n",
    "        ux_vec = (x_vec.T*u).T\n",
    "        vx_vec = (x_vec.T*v).T\n",
    "        A_u = np.concatenate((x_vec, np.zeros((N, 3)), -ux_vec), axis=1)\n",
    "        A_v = np.concatenate((np.zeros((N, 3)), x_vec, -vx_vec), axis=1)\n",
    "        A = np.concatenate([A_u,A_v])\n",
    "        svd = np.linalg.svd(A)\n",
    "        chosen_eigen_vector = svd[2][svd[1].argmin()]\n",
    "        return chosen_eigen_vector.reshape((3,3))"
   ]
  },
  {
   "cell_type": "code",
   "execution_count": null,
   "metadata": {},
   "outputs": [],
   "source": [
    "w = inliers_percent\n",
    "# t = max_err\n",
    "# p = parameter determining the probability of the algorithm to\n",
    "# succeed\n",
    "p = 0.99\n",
    "# the minimal probability of points which meets with the model\n",
    "d = 0.5\n",
    "# number of points sufficient to compute the model\n",
    "n = 4\n",
    "# number of RANSAC iterations (+1 to avoid the case where w=1)\n",
    "k = int(np.ceil(np.log(1 - p) / np.log(1 - w ** n))) + 1"
   ]
  },
  {
   "cell_type": "code",
   "execution_count": null,
   "metadata": {},
   "outputs": [],
   "source": [
    "best_mse = np.inf\n",
    "for i in range(k):\n",
    "    r_c_points = np.random.choice(range(match_p_src.shape[1]),size=n,replace=False)\n",
    "    H = compute_homography_naive(match_p_src[:,r_c_points],match_p_dst[:,r_c_points])\n",
    "    in_prob,mse= test_homography(H,match_p_src,match_p_dst,max_err)\n",
    "    print(test_homography(H,match_p_src,match_p_dst,max_err))\n",
    "    if in_prob > d:\n",
    "        if mse < best_mse:\n",
    "            best_mse=mse\n",
    "            meet_points = meet_the_model_points(H,match_p_src,match_p_dst,max_err)\n",
    "            best_model = compute_homography_naive(*meet_points)\n",
    "            print('$$$$$$$$$$$$$')\n",
    "            print(test_homography(best_model,match_p_src,match_p_dst,max_err))\n",
    "            print('$$$$$$$$$$$$$')\n"
   ]
  },
  {
   "cell_type": "code",
   "execution_count": null,
   "metadata": {},
   "outputs": [],
   "source": [
    "matches = scipy.io.loadmat('matches.mat')\n",
    "match_p_src = matches['match_p_src']\n",
    "match_p_dst = matches['match_p_dst']\n"
   ]
  },
  {
   "cell_type": "code",
   "execution_count": null,
   "metadata": {},
   "outputs": [],
   "source": [
    "xy = np.vstack([match_p_src, np.ones(match_p_src.shape[1])])\n",
    "uv = np.vstack([match_p_dst, np.ones(match_p_dst.shape[1])])\n",
    "estimated = np.matmul(compute_homography_naive(match_p_src,match_p_dst),xy)\n",
    "estimated = estimated / estimated[2,:]\n",
    "error = estimated - uv\n",
    "norms = np.array([np.linalg.norm(error[:2,i]) for i in range(error.shape[1])])\n",
    "vfunc = np.vectorize(lambda x: x < max_err)\n",
    "fit_points = vfunc(norms)\n",
    "fit_percent = np.mean(fit_points)\n",
    "dist_mse = np.mean(norms[fit_points])\n",
    "print( fit_percent, dist_mse)"
   ]
  },
  {
   "cell_type": "code",
   "execution_count": null,
   "metadata": {},
   "outputs": [],
   "source": [
    "test_homography(compute_homography_naive(match_p_src,match_p_dst),match_p_src,match_p_dst,max_err=max_err)"
   ]
  },
  {
   "cell_type": "code",
   "execution_count": null,
   "metadata": {},
   "outputs": [],
   "source": [
    "compute_homography_naive(*meet_points)"
   ]
  },
  {
   "cell_type": "code",
   "execution_count": null,
   "metadata": {},
   "outputs": [],
   "source": [
    "meet_points"
   ]
  },
  {
   "cell_type": "code",
   "execution_count": null,
   "metadata": {},
   "outputs": [],
   "source": [
    "max_err"
   ]
  },
  {
   "cell_type": "code",
   "execution_count": null,
   "metadata": {},
   "outputs": [],
   "source": [
    "r_c_points"
   ]
  },
  {
   "cell_type": "code",
   "execution_count": null,
   "metadata": {},
   "outputs": [],
   "source": [
    "fit_percent_terget = 0.7\n",
    "n = mp_src.shape[1]\n",
    "p = 0.999\n",
    "k = int(np.ceil(np.log(1 - p) / np.log(1 - inliers_percent ** 4)))\n",
    "best_mse = np.inf\n",
    "opt_mse = np.inf\n",
    "for i in range(k):\n",
    "    indx_points = np.random.randint(1, n, 4)\n",
    "    H_naive = compute_homography_naive(mp_src[:, indx_points], mp_dst[:, indx_points])\n",
    "    fit_percent,aaa = test_homography(H_naive, mp_src, mp_dst, max_err)\n",
    "    xy = np.vstack([mp_src, np.ones(mp_src.shape[1])])\n",
    "    uv = np.vstack([mp_dst, np.ones(mp_dst.shape[1])])\n",
    "    estimated = np.matmul(H_naive, xy)\n",
    "    estimated = estimated / estimated[2, :]\n",
    "    error = estimated - uv\n",
    "    norms = np.array([np.linalg.norm(error[:2, i]) for i in range(error.shape[1])])\n",
    "    vfunc = np.vectorize(lambda x: x < max_err)\n",
    "    fit_points = vfunc(norms)\n",
    "    print(fit_points.shape)\n",
    "    H_naive_all_points = compute_homography_naive(mp_src[:, fit_points],mp_dst[:, fit_points])\n",
    "    _, dist_mse_all_point = test_homography(H_naive, mp_src[:, fit_points],\\\n",
    "                                                mp_dst[:, fit_points], max_err)\n",
    "    if dist_mse_all_point < best_mse:\n",
    "        if dist_mse_all_point < opt_mse:\n",
    "            H_opt = H_naive_all_points\n",
    "            opt_mse = dist_mse_all_point\n",
    "\n",
    "        if fit_percent > fit_percent_terget:\n",
    "            best_H = H_naive_all_points\n",
    "            best_mse = dist_mse_all_point\n",
    "try:\n",
    "    best_H\n",
    "except:\n",
    "    print('there is no good H for these points under the conditions required')\n",
    "  "
   ]
  },
  {
   "cell_type": "code",
   "execution_count": null,
   "metadata": {},
   "outputs": [],
   "source": [
    "svd[2][svd[1].argmin()]"
   ]
  },
  {
   "cell_type": "code",
   "execution_count": null,
   "metadata": {},
   "outputs": [],
   "source": [
    "chosen_eigen_vector = svd[2][svd[1].argmin()]"
   ]
  },
  {
   "cell_type": "code",
   "execution_count": null,
   "metadata": {},
   "outputs": [],
   "source": [
    "import numpy as np\n",
    "import itertools\n",
    "\n",
    "max_err = 25\n",
    "\n",
    "# _, _, match_p_src, match_p_dst = load_data(is_perfect_matches=True)\n",
    "\n",
    "inliers_ratio = []\n",
    "\n",
    "# matches = scipy.io.loadmat('matches_perfect.mat')\n",
    "\n",
    "for indices in itertools.combinations(range(match_p_src.shape[1]), 4):\n",
    "    h = Solution.compute_homography_naive(match_p_src[:,list(indices)], match_p_dst[:,list(indices)])\n",
    "\n",
    "    dist = Solution.test_homography(h, match_p_src, match_p_dst,\n",
    "                                                                                  max_err)\n",
    "    mp_src_meets_model, mp_dst_meets_model = Solution.meet_the_model_points(h, match_p_src, match_p_dst,\n",
    "                                                                                  max_err)\n",
    "\n",
    "    inliers_ratio.append(mp_src_meets_model.shape[1] / match_p_src.shape[1])\n",
    "\n",
    "acceptance_probability = (np.array(inliers_ratio) >= 0.5).mean()\n",
    "print(acceptance_probability)"
   ]
  },
  {
   "cell_type": "code",
   "execution_count": 149,
   "metadata": {},
   "outputs": [
    {
     "name": "stdout",
     "output_type": "stream",
     "text": [
      "0.0\n"
     ]
    }
   ],
   "source": [
    "import numpy as np\n",
    "import itertools\n",
    "import cv2\n",
    "\n",
    "max_err = 25\n",
    "\n",
    "# _, _, match_p_src, match_p_dst = load_data(is_perfect_matches=True)\n",
    "\n",
    "inliers_ratio = []\n",
    "\n",
    "for indices in itertools.combinations(range(match_p_src.shape[1]), 4):\n",
    "    h1, status = cv2.findHomography(match_p_src.T[list(indices)], match_p_dst.T[list(indices)])\n",
    "    h = compute_homography_naive1(match_p_src[:,list(indices)], match_p_dst[:,list(indices)])\n",
    "    dist = Solution.test_homography(h, match_p_src, match_p_dst,\n",
    "                                                                                  max_err)\n",
    "    mp_src_meets_model, mp_dst_meets_model = Solution.meet_the_model_points(h, match_p_src, match_p_dst,\n",
    "                                                                                  max_err)\n",
    "\n",
    "    inliers_ratio.append(mp_src_meets_model.shape[1] / match_p_src.shape[1])\n",
    "    \n",
    "acceptance_probability = (np.array(inliers_ratio) >= 0.5).mean()\n",
    "print(acceptance_probability)"
   ]
  },
  {
   "cell_type": "code",
   "execution_count": 20,
   "metadata": {},
   "outputs": [],
   "source": [
    "from ex1_student_solution import Solution"
   ]
  },
  {
   "cell_type": "code",
   "execution_count": 21,
   "metadata": {},
   "outputs": [],
   "source": [
    "matches = scipy.io.loadmat('matches_perfect.mat')\n",
    "match_p_src = matches['match_p_src']\n",
    "match_p_dst = matches['match_p_dst']\n"
   ]
  },
  {
   "cell_type": "code",
   "execution_count": 31,
   "metadata": {},
   "outputs": [
    {
     "data": {
      "text/plain": [
       "array([[ 2.40223615e-02,  1.13935653e-02, -1.70353677e+00],\n",
       "       [-9.34885798e-01,  5.54350985e-01,  7.58464186e+02],\n",
       "       [-9.78018515e-04,  3.53956707e-04,  1.00000000e+00]])"
      ]
     },
     "execution_count": 31,
     "metadata": {},
     "output_type": "execute_result"
    }
   ],
   "source": [
    "h=Solution.compute_homography_naive(match_p_src[:,:4],match_p_dst[:,:4])\n",
    "h /h[-1][-1]"
   ]
  },
  {
   "cell_type": "code",
   "execution_count": 32,
   "metadata": {},
   "outputs": [
    {
     "data": {
      "text/plain": [
       "array([[ 1.43280918e+00,  2.10241916e-01, -1.27548625e+03],\n",
       "       [ 1.30204217e-02,  1.34584720e+00, -1.55233239e+01],\n",
       "       [ 3.78412028e-04,  5.53168907e-05,  1.00000000e+00]])"
      ]
     },
     "execution_count": 32,
     "metadata": {},
     "output_type": "execute_result"
    }
   ],
   "source": [
    "import cv2\n",
    "cv2.findHomography(match_p_src[:,:].T,match_p_dst[:,:].T)[0]"
   ]
  },
  {
   "cell_type": "code",
   "execution_count": 152,
   "metadata": {},
   "outputs": [
    {
     "name": "stdout",
     "output_type": "stream",
     "text": [
      "1.0\n",
      "0.9999999999999999\n"
     ]
    }
   ],
   "source": [
    "h2 = compute_homography_naive1(match_p_src[:,list(indices)], match_p_dst[:,list(indices)])\n",
    "h1 = compute_homography_naive(match_p_src[:,list(indices)], match_p_dst[:,list(indices)])\n",
    "# h, status = cv2.findHomography(match_p_src.T[list(indices)], match_p_dst.T[list(indices)])\n"
   ]
  },
  {
   "cell_type": "code",
   "execution_count": 141,
   "metadata": {},
   "outputs": [
    {
     "data": {
      "text/plain": [
       "array([[ 7.98363713e-01,  1.31545447e-02, -6.24763883e+02],\n",
       "       [ 1.39698527e-02,  3.56429837e-01,  3.09140068e+02],\n",
       "       [ 2.17636819e-04, -5.12929706e-04,  1.00000000e+00]])"
      ]
     },
     "execution_count": 141,
     "metadata": {},
     "output_type": "execute_result"
    }
   ],
   "source": [
    "h2"
   ]
  },
  {
   "cell_type": "code",
   "execution_count": 151,
   "metadata": {},
   "outputs": [],
   "source": [
    "\n",
    "def compute_homography_naive1(mp_src, mp_dst):\n",
    "    N = mp_src.shape[1]\n",
    "    u = mp_dst[0, :]\n",
    "    v = mp_dst[1, :]\n",
    "    # move to homogeneous coordinates\n",
    "    xy = np.transpose(np.vstack([mp_src, np.ones(N)]))\n",
    "\n",
    "    uxy = np.multiply(np.transpose(np.array([u, ] * 3)), xy)\n",
    "    vxy = np.multiply(np.transpose(np.array([v, ] * 3)), xy)\n",
    "    A_u = np.concatenate((-xy, np.zeros((N, 3)), uxy), axis=1)\n",
    "    A_v = np.concatenate((np.zeros((N, 3)), -xy, vxy), axis=1)\n",
    "    A_u_doubled = np.zeros((2 * N, 9))\n",
    "    A_v_doubled = np.zeros((2 * N, 9))\n",
    "#     for i in range(0, N):\n",
    "#         A_u_doubled[2 * i] = A_u[i]\n",
    "#         A_u_doubled[2 * i + 1] = A_u[i]\n",
    "#         A_v_doubled[2 * i] = A_v[i]\n",
    "#         A_v_doubled[2 * i + 1] = A_v[i]\n",
    "\n",
    "#     A_u_doubled[1:(2 * N):2] = 0\n",
    "#     A_v_doubled[0:(2 * N):2] = 0\n",
    "    \n",
    "    A_u_doubled = np.concatenate((xy, np.zeros((N, 3)), -uxy), axis=1)\n",
    "    A_v_doubled = np.concatenate((np.zeros((N, 3)), xy, -vxy), axis=1)\n",
    "    \n",
    "    A = np.concatenate([A_u_doubled,A_v_doubled])\n",
    "    #A_u_doubled + A_v_doubled\n",
    "\n",
    "    AtA = np.dot(np.transpose(A), A)\n",
    "    e , v = np.linalg.eigh(AtA)\n",
    "    \n",
    "#     print(np.linalg.norm(v[0]))\n",
    "\n",
    "    svd = np.linalg.svd(A)\n",
    "    v = svd[2][svd[1].argmin()]\n",
    "#     print(np.min(svd[1]**2))\n",
    "#     print(np.min(e))\n",
    "    print(np.linalg.norm(v))\n",
    "    H = v \n",
    "    H = np.reshape(H, (3, 3))\n",
    "    H = H / H[-1, -1]\n",
    "    return H"
   ]
  },
  {
   "cell_type": "code",
   "execution_count": 155,
   "metadata": {},
   "outputs": [
    {
     "name": "stdout",
     "output_type": "stream",
     "text": [
      "1.0\n"
     ]
    }
   ],
   "source": [
    "N = mp_src.shape[1]\n",
    "u = mp_dst[0, :]\n",
    "v = mp_dst[1, :]\n",
    "# move to homogeneous coordinates\n",
    "xy = np.transpose(np.vstack([mp_src, np.ones(N)]))\n",
    "\n",
    "uxy = np.multiply(np.transpose(np.array([u, ] * 3)), xy)\n",
    "vxy = np.multiply(np.transpose(np.array([v, ] * 3)), xy)\n",
    "A_u = np.concatenate((-xy, np.zeros((N, 3)), uxy), axis=1)\n",
    "A_v = np.concatenate((np.zeros((N, 3)), -xy, vxy), axis=1)\n",
    "A_u_doubled = np.zeros((2 * N, 9))\n",
    "A_v_doubled = np.zeros((2 * N, 9))\n",
    "#     for i in range(0, N):\n",
    "#         A_u_doubled[2 * i] = A_u[i]\n",
    "#         A_u_doubled[2 * i + 1] = A_u[i]\n",
    "#         A_v_doubled[2 * i] = A_v[i]\n",
    "#         A_v_doubled[2 * i + 1] = A_v[i]\n",
    "\n",
    "#     A_u_doubled[1:(2 * N):2] = 0\n",
    "#     A_v_doubled[0:(2 * N):2] = 0\n",
    "\n",
    "A_u_doubled = np.concatenate((xy, np.zeros((N, 3)), -uxy), axis=1)\n",
    "A_v_doubled = np.concatenate((np.zeros((N, 3)), xy, -vxy), axis=1)\n",
    "\n",
    "A = np.concatenate([A_u_doubled,A_v_doubled])\n",
    "#A_u_doubled + A_v_doubled\n",
    "\n",
    "AtA = np.dot(np.transpose(A), A)\n",
    "e , v = np.linalg.eigh(AtA)\n",
    "\n",
    "#     print(np.linalg.norm(v[0]))\n",
    "\n",
    "svd = np.linalg.svd(A)\n",
    "v = svd[2][svd[1].argmin()]\n",
    "#     print(np.min(svd[1]**2))\n",
    "#     print(np.min(e))\n",
    "print(np.linalg.norm(v))\n",
    "H = v \n",
    "H = np.reshape(H, (3, 3))\n",
    "H = H / H[-1, -1]"
   ]
  },
  {
   "cell_type": "code",
   "execution_count": 175,
   "metadata": {},
   "outputs": [],
   "source": [
    "svd = np.linalg.svd(A)\n"
   ]
  },
  {
   "cell_type": "code",
   "execution_count": 176,
   "metadata": {},
   "outputs": [
    {
     "data": {
      "text/plain": [
       "array([-4.46139905e-04, -2.72071502e-04, -3.79959938e-07, -9.09753846e-04,\n",
       "       -6.45510819e-04, -8.41343237e-07,  8.10332228e-01,  5.85968954e-01,\n",
       "        7.40300476e-04])"
      ]
     },
     "execution_count": 176,
     "metadata": {},
     "output_type": "execute_result"
    }
   ],
   "source": [
    "svd[2][0]"
   ]
  },
  {
   "cell_type": "code",
   "execution_count": 193,
   "metadata": {},
   "outputs": [
    {
     "data": {
      "text/plain": [
       "array([ 1.12313781e-03,  1.64757662e-04, -9.99919585e-01,  1.05117245e-05,\n",
       "        1.05462483e-03, -1.25622165e-02,  2.96940746e-07,  4.35706350e-08,\n",
       "        7.82907867e-04])"
      ]
     },
     "execution_count": 193,
     "metadata": {},
     "output_type": "execute_result"
    }
   ],
   "source": [
    "svd[2][-1]"
   ]
  },
  {
   "cell_type": "code",
   "execution_count": 194,
   "metadata": {},
   "outputs": [
    {
     "data": {
      "text/plain": [
       "array([ 1.12314330e-03,  2.24209418e-04,  2.30981002e-01,  1.25809025e-01,\n",
       "        5.97113161e-01,  1.52892659e-01,  7.42222662e-01,  1.89269267e-03,\n",
       "       -4.46139905e-04])"
      ]
     },
     "execution_count": 194,
     "metadata": {},
     "output_type": "execute_result"
    }
   ],
   "source": [
    "v[0]"
   ]
  },
  {
   "cell_type": "code",
   "execution_count": 195,
   "metadata": {},
   "outputs": [
    {
     "data": {
      "text/plain": [
       "8"
      ]
     },
     "execution_count": 195,
     "metadata": {},
     "output_type": "execute_result"
    }
   ],
   "source": [
    "np.argmin(svd[1])"
   ]
  },
  {
   "cell_type": "code",
   "execution_count": 206,
   "metadata": {},
   "outputs": [
    {
     "data": {
      "text/plain": [
       "0.010942554900416512"
      ]
     },
     "execution_count": 206,
     "metadata": {},
     "output_type": "execute_result"
    }
   ],
   "source": [
    "(min(svd[1]))"
   ]
  },
  {
   "cell_type": "code",
   "execution_count": 205,
   "metadata": {},
   "outputs": [
    {
     "data": {
      "text/plain": [
       "7.137177727471393e-05"
      ]
     },
     "execution_count": 205,
     "metadata": {},
     "output_type": "execute_result"
    }
   ],
   "source": [
    "min(e)"
   ]
  },
  {
   "cell_type": "code",
   "execution_count": 192,
   "metadata": {},
   "outputs": [
    {
     "data": {
      "text/plain": [
       "9"
      ]
     },
     "execution_count": 192,
     "metadata": {},
     "output_type": "execute_result"
    }
   ],
   "source": [
    "len(svd[1])"
   ]
  },
  {
   "cell_type": "code",
   "execution_count": 190,
   "metadata": {},
   "outputs": [
    {
     "data": {
      "text/plain": [
       "0"
      ]
     },
     "execution_count": 190,
     "metadata": {},
     "output_type": "execute_result"
    }
   ],
   "source": [
    "np.argmin(e)"
   ]
  },
  {
   "cell_type": "code",
   "execution_count": 156,
   "metadata": {},
   "outputs": [],
   "source": [
    "e , v = np.linalg.eigh(AtA)\n"
   ]
  },
  {
   "cell_type": "code",
   "execution_count": 143,
   "metadata": {},
   "outputs": [],
   "source": [
    "def compute_homography_naive(match_p_src: np.ndarray,\n",
    "                             match_p_dst: np.ndarray) -> np.ndarray:\n",
    "    \"\"\"Compute a Homography in the Naive approach, using SVD decomposition.\n",
    "\n",
    "    Args:\n",
    "        match_p_src: 2xN points from the source image.\n",
    "        match_p_dst: 2xN points from the destination image.\n",
    "\n",
    "    Returns:\n",
    "        Homography from source to destination, 3x3 numpy array.\n",
    "    \"\"\"\n",
    "    # return homography\n",
    "    N = match_p_src.shape[1]\n",
    "    u = match_p_dst[0, :]\n",
    "    v = match_p_dst[1, :]\n",
    "    x_vec = np.vstack([match_p_src,np.ones(N)]).T\n",
    "    ux_vec = (x_vec.T*u).T\n",
    "    vx_vec = (x_vec.T*v).T\n",
    "    A_u = np.concatenate((x_vec, np.zeros((N, 3)), -ux_vec), axis=1)\n",
    "    A_v = np.concatenate((np.zeros((N, 3)), x_vec, -vx_vec), axis=1)\n",
    "    A = np.concatenate([A_u,A_v])\n",
    "    svd = np.linalg.svd(A)\n",
    "#     print(svd[1])\n",
    "    chosen_eigen_vector = svd[2][svd[1].argmin()]\n",
    "    h = chosen_eigen_vector.reshape((3,3))\n",
    "    return  h / h[-1,-1]"
   ]
  },
  {
   "cell_type": "code",
   "execution_count": null,
   "metadata": {},
   "outputs": [],
   "source": []
  }
 ],
 "metadata": {
  "kernelspec": {
   "display_name": "cv_env",
   "language": "python",
   "name": "cv_env"
  },
  "language_info": {
   "codemirror_mode": {
    "name": "ipython",
    "version": 3
   },
   "file_extension": ".py",
   "mimetype": "text/x-python",
   "name": "python",
   "nbconvert_exporter": "python",
   "pygments_lexer": "ipython3",
   "version": "3.9.6"
  }
 },
 "nbformat": 4,
 "nbformat_minor": 4
}
