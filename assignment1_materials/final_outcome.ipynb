{
 "cells": [
  {
   "cell_type": "code",
   "execution_count": 1,
   "metadata": {},
   "outputs": [],
   "source": [
    "import time\n",
    "import scipy.io\n",
    "import matplotlib.pyplot as plt\n",
    "import matplotlib.image as mpimg\n",
    "\n",
    "from cv2 import resize, INTER_CUBIC\n",
    "from matplotlib.patches import Circle\n",
    "\n",
    "from ex1_student_solution import Solution\n",
    "\n",
    "import numpy as np"
   ]
  },
  {
   "cell_type": "code",
   "execution_count": 2,
   "metadata": {},
   "outputs": [],
   "source": [
    "s = Solution()"
   ]
  },
  {
   "cell_type": "code",
   "execution_count": 3,
   "metadata": {},
   "outputs": [],
   "source": [
    "\n",
    "src_image = mpimg.imread('src.jpg')\n",
    "dst_image = mpimg.imread('dst.jpg')\n",
    "dst_img,src_img = dst_image,src_image\n",
    "matches = scipy.io.loadmat('matches.mat')\n",
    "\n",
    "# src_image = mpimg.imread('src_test.jpg')\n",
    "# dst_image = mpimg.imread('dst_test.jpg')\n",
    "# dst_img,src_img = dst_image,src_image\n",
    "\n",
    "# matches = scipy.io.loadmat('matches_test.mat')\n"
   ]
  },
  {
   "cell_type": "code",
   "execution_count": 4,
   "metadata": {},
   "outputs": [],
   "source": [
    "match_p_src = matches['match_p_src']\n",
    "match_p_dst = matches['match_p_dst']"
   ]
  },
  {
   "cell_type": "code",
   "execution_count": 5,
   "metadata": {},
   "outputs": [],
   "source": [
    "\n",
    "# Parameters\n",
    "max_err = 25\n",
    "inliers_percent = 0.8\n"
   ]
  },
  {
   "cell_type": "code",
   "execution_count": 6,
   "metadata": {},
   "outputs": [],
   "source": [
    "# pano=s.panorama(src_img,dst_img,match_p_src,match_p_dst,inliers_percent,max_err)"
   ]
  },
  {
   "cell_type": "code",
   "execution_count": 7,
   "metadata": {},
   "outputs": [],
   "source": [
    "# plt.imshow(pano.astype('int'))"
   ]
  },
  {
   "cell_type": "code",
   "execution_count": 8,
   "metadata": {},
   "outputs": [],
   "source": [
    "###################"
   ]
  },
  {
   "cell_type": "code",
   "execution_count": 9,
   "metadata": {},
   "outputs": [],
   "source": [
    "h = s.compute_homography(match_p_src,match_p_dst,inliers_percent,max_err)"
   ]
  },
  {
   "cell_type": "code",
   "execution_count": 10,
   "metadata": {},
   "outputs": [],
   "source": [
    "homography=h"
   ]
  },
  {
   "cell_type": "code",
   "execution_count": 11,
   "metadata": {},
   "outputs": [],
   "source": [
    "back_h = np.linalg.inv(h)"
   ]
  },
  {
   "cell_type": "code",
   "execution_count": null,
   "metadata": {},
   "outputs": [],
   "source": [
    "from collections import namedtuple\n",
    "\n",
    "PadStruct = namedtuple('PadStruct',\n",
    "\n",
    "                       ['pad_up', 'pad_down', 'pad_right', 'pad_left'])\n",
    "\n",
    "\n",
    "\n",
    "\n",
    "src_rows_num, src_cols_num, _ = src_image.shape\n",
    "dst_rows_num, dst_cols_num, _ = dst_image.shape\n",
    "src_edges = {}\n",
    "src_edges['upper left corner'] = np.array([1, 1, 1])\n",
    "src_edges['upper right corner'] = np.array([src_cols_num, 1, 1])\n",
    "src_edges['lower left corner'] = np.array([1, src_rows_num, 1])\n",
    "src_edges['lower right corner'] = \\\n",
    "    np.array([src_cols_num, src_rows_num, 1])\n",
    "transformed_edges = {}\n",
    "for corner_name, corner_location in src_edges.items():\n",
    "    transformed_edges[corner_name] = homography @ corner_location\n",
    "    transformed_edges[corner_name] /= transformed_edges[corner_name][-1]\n",
    "pad_up = pad_down = pad_right = pad_left = 0\n",
    "for corner_name, corner_location in transformed_edges.items():\n",
    "    if corner_location[1] < 1:\n",
    "        # pad up\n",
    "        pad_up = max([pad_up, abs(corner_location[1])])\n",
    "    if corner_location[0] > dst_cols_num:\n",
    "        # pad right\n",
    "        pad_right = max([pad_right,\n",
    "                         corner_location[0] - dst_cols_num])\n",
    "    if corner_location[0] < 1:\n",
    "        # pad left\n",
    "        pad_left = max([pad_left, abs(corner_location[0])])\n",
    "    if corner_location[1] > dst_rows_num:\n",
    "        # pad down\n",
    "        pad_down = max([pad_down,\n",
    "                        corner_location[1] - dst_rows_num])\n",
    "panorama_cols_num = int(dst_cols_num) + int(pad_right) + int(pad_left)\n",
    "panorama_rows_num = int(dst_rows_num) + int(pad_up) + int(pad_down)\n",
    "pad_struct = PadStruct(pad_up=int(pad_up),\n",
    "                       pad_down=int(pad_down),\n",
    "                       pad_left=int(pad_left),\n",
    "                       pad_right=int(pad_right))"
   ]
  },
  {
   "cell_type": "code",
   "execution_count": null,
   "metadata": {},
   "outputs": [],
   "source": [
    "dst_cols_num"
   ]
  },
  {
   "cell_type": "code",
   "execution_count": null,
   "metadata": {},
   "outputs": [],
   "source": [
    "dst_img.shape"
   ]
  },
  {
   "cell_type": "code",
   "execution_count": null,
   "metadata": {},
   "outputs": [],
   "source": [
    "int(dst_rows_num + pad_up + pad_down)"
   ]
  },
  {
   "cell_type": "code",
   "execution_count": null,
   "metadata": {},
   "outputs": [],
   "source": [
    "dst_rows_num + pad_up + pad_down"
   ]
  },
  {
   "cell_type": "code",
   "execution_count": null,
   "metadata": {},
   "outputs": [],
   "source": [
    "panorama_rows_num "
   ]
  },
  {
   "cell_type": "code",
   "execution_count": null,
   "metadata": {},
   "outputs": [],
   "source": [
    "int(pad_up)"
   ]
  },
  {
   "cell_type": "code",
   "execution_count": null,
   "metadata": {},
   "outputs": [],
   "source": [
    "int(pad_down)"
   ]
  },
  {
   "cell_type": "code",
   "execution_count": null,
   "metadata": {},
   "outputs": [],
   "source": [
    "transformed_edges"
   ]
  },
  {
   "cell_type": "code",
   "execution_count": null,
   "metadata": {},
   "outputs": [],
   "source": [
    "# from collections import namedtuple\n",
    "\n",
    "# PadStruct = namedtuple('PadStruct',\n",
    "#                        ['pad_up', 'pad_down', 'pad_right', 'pad_left'])\n"
   ]
  },
  {
   "cell_type": "code",
   "execution_count": null,
   "metadata": {},
   "outputs": [],
   "source": [
    "# pad_struct = PadStruct(pad_up=int(np.ceil(pad_up)),\n",
    "#                        pad_down=int(np.ceil(pad_down)),\n",
    "#                        pad_left=int(np.ceil(pad_left)),\n",
    "#                        pad_right=int(np.ceil(pad_right)))"
   ]
  },
  {
   "cell_type": "code",
   "execution_count": 12,
   "metadata": {},
   "outputs": [],
   "source": [
    "r,c,padding = s.find_panorama_shape(src_image,dst_image,h)"
   ]
  },
  {
   "cell_type": "code",
   "execution_count": 13,
   "metadata": {},
   "outputs": [
    {
     "data": {
      "text/plain": [
       "PadStruct(pad_up=14, pad_down=203, pad_right=0, pad_left=1274)"
      ]
     },
     "execution_count": 13,
     "metadata": {},
     "output_type": "execute_result"
    }
   ],
   "source": [
    "padding"
   ]
  },
  {
   "cell_type": "code",
   "execution_count": 14,
   "metadata": {},
   "outputs": [
    {
     "data": {
      "text/plain": [
       "(1305, 2726)"
      ]
     },
     "execution_count": 14,
     "metadata": {},
     "output_type": "execute_result"
    }
   ],
   "source": [
    "r,c"
   ]
  },
  {
   "cell_type": "code",
   "execution_count": 15,
   "metadata": {},
   "outputs": [],
   "source": [
    "translated_back_h = s.add_translation_to_backward_homography(back_h,pad_left=padding.pad_left,pad_up=padding.pad_up)"
   ]
  },
  {
   "cell_type": "code",
   "execution_count": 16,
   "metadata": {},
   "outputs": [],
   "source": [
    "empty_pano = s.compute_backward_mapping(translated_back_h,src_img,(r,c,3))"
   ]
  },
  {
   "cell_type": "code",
   "execution_count": 17,
   "metadata": {},
   "outputs": [
    {
     "data": {
      "text/plain": [
       "(1305, 2726, 3)"
      ]
     },
     "execution_count": 17,
     "metadata": {},
     "output_type": "execute_result"
    }
   ],
   "source": [
    "empty_pano.shape"
   ]
  },
  {
   "cell_type": "code",
   "execution_count": null,
   "metadata": {},
   "outputs": [],
   "source": [
    "missmatch_y = 0#dst_img.shape[0] - (empty_pano.shape[0]-padding.pad_down - padding.pad_up)"
   ]
  },
  {
   "cell_type": "code",
   "execution_count": null,
   "metadata": {},
   "outputs": [],
   "source": [
    "missmatch_x = 0#dst_img.shape[1] - (empty_pano.shape[1]-padding.pad_right - padding.pad_left)"
   ]
  },
  {
   "cell_type": "code",
   "execution_count": null,
   "metadata": {},
   "outputs": [],
   "source": [
    "missmatch_y"
   ]
  },
  {
   "cell_type": "code",
   "execution_count": 18,
   "metadata": {},
   "outputs": [],
   "source": [
    "empty_pano[padding.pad_up:empty_pano.shape[0]-padding.pad_down,padding.pad_left:empty_pano.shape[1]-padding.pad_right]= dst_img"
   ]
  },
  {
   "cell_type": "code",
   "execution_count": 19,
   "metadata": {},
   "outputs": [
    {
     "data": {
      "text/plain": [
       "1088"
      ]
     },
     "execution_count": 19,
     "metadata": {},
     "output_type": "execute_result"
    }
   ],
   "source": [
    "empty_pano.shape[0]-padding.pad_down-padding.pad_up"
   ]
  },
  {
   "cell_type": "code",
   "execution_count": null,
   "metadata": {},
   "outputs": [],
   "source": [
    "padding.pad_down"
   ]
  },
  {
   "cell_type": "code",
   "execution_count": null,
   "metadata": {},
   "outputs": [],
   "source": [
    "padding.pad_up"
   ]
  },
  {
   "cell_type": "code",
   "execution_count": 20,
   "metadata": {},
   "outputs": [
    {
     "name": "stderr",
     "output_type": "stream",
     "text": [
      "Clipping input data to the valid range for imshow with RGB data ([0..1] for floats or [0..255] for integers).\n"
     ]
    },
    {
     "data": {
      "text/plain": [
       "<matplotlib.image.AxesImage at 0x7fab2e18fdc0>"
      ]
     },
     "execution_count": 20,
     "metadata": {},
     "output_type": "execute_result"
    },
    {
     "data": {
      "image/png": "[encoded data removed]",
      "text/plain": [
       "<Figure size 432x288 with 1 Axes>"
      ]
     },
     "metadata": {
      "needs_background": "light"
     },
     "output_type": "display_data"
    }
   ],
   "source": [
    "plt.imshow(empty_pano.astype('int'))"
   ]
  },
  {
   "cell_type": "code",
   "execution_count": null,
   "metadata": {},
   "outputs": [],
   "source": [
    "dst_img.shape"
   ]
  },
  {
   "cell_type": "code",
   "execution_count": null,
   "metadata": {},
   "outputs": [],
   "source": [
    "padding.pad_up-empty_pano.shape[0]-padding.pad_down"
   ]
  },
  {
   "cell_type": "code",
   "execution_count": null,
   "metadata": {},
   "outputs": [],
   "source": [
    "(empty_pano.shape[0]-padding.pad_down) - padding.pad_up"
   ]
  },
  {
   "cell_type": "code",
   "execution_count": null,
   "metadata": {},
   "outputs": [],
   "source": [
    "padding.pad_up"
   ]
  },
  {
   "cell_type": "code",
   "execution_count": null,
   "metadata": {},
   "outputs": [],
   "source": [
    "padding.pad_up"
   ]
  },
  {
   "cell_type": "code",
   "execution_count": null,
   "metadata": {},
   "outputs": [],
   "source": [
    "empty_pano.shape[0]-padding.pad_down"
   ]
  },
  {
   "cell_type": "code",
   "execution_count": null,
   "metadata": {},
   "outputs": [],
   "source": [
    "dst_img.shape"
   ]
  },
  {
   "cell_type": "code",
   "execution_count": null,
   "metadata": {},
   "outputs": [],
   "source": [
    "padding.pad_up"
   ]
  },
  {
   "cell_type": "code",
   "execution_count": null,
   "metadata": {},
   "outputs": [],
   "source": [
    "empty_pano.shape[0]-padding.pad_down"
   ]
  },
  {
   "cell_type": "code",
   "execution_count": null,
   "metadata": {},
   "outputs": [],
   "source": [
    "plt.figure(figsize = (30,30))\n",
    "plt.imshow(empty_pano.astype('int'))"
   ]
  },
  {
   "cell_type": "code",
   "execution_count": null,
   "metadata": {},
   "outputs": [],
   "source": [
    "import cv2\n",
    "import numpy as np\n",
    "import scipy.io"
   ]
  },
  {
   "cell_type": "code",
   "execution_count": null,
   "metadata": {},
   "outputs": [],
   "source": [
    "global source, dest, match_p_dst, match_p_src, frame, frame2\n"
   ]
  },
  {
   "cell_type": "code",
   "execution_count": null,
   "metadata": {},
   "outputs": [],
   "source": [
    "\n",
    "source = cv2.imread('src_test.jpg')\n",
    "dest = cv2.imread('dst_test.jpg')"
   ]
  },
  {
   "cell_type": "code",
   "execution_count": null,
   "metadata": {},
   "outputs": [],
   "source": [
    "\n",
    "cv2.namedWindow(\"frame\", cv2.WINDOW_NORMAL)\n",
    "\n"
   ]
  },
  {
   "cell_type": "code",
   "execution_count": null,
   "metadata": {},
   "outputs": [],
   "source": []
  }
 ],
 "metadata": {
  "kernelspec": {
   "display_name": "cv_env",
   "language": "python",
   "name": "cv_env"
  },
  "language_info": {
   "codemirror_mode": {
    "name": "ipython",
    "version": 3
   },
   "file_extension": ".py",
   "mimetype": "text/x-python",
   "name": "python",
   "nbconvert_exporter": "python",
   "pygments_lexer": "ipython3",
   "version": "3.9.6"
  }
 },
 "nbformat": 4,
 "nbformat_minor": 4
}
